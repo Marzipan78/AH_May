{
 "cells": [
  {
   "cell_type": "code",
   "execution_count": 1,
   "metadata": {},
   "outputs": [],
   "source": [
    "import pandas as pd\n",
    "import numpy as np\n",
    "import regex as re\n",
    "from bs4 import BeautifulSoup as bs\n",
    "import requests\n",
    "headers = {\n",
    "'User-Agent': 'Mozilla/5.0 (Windows NT 10.0; WOW64) AppleWebKit/537.36 (KHTML,)'}"
   ]
  },
  {
   "cell_type": "code",
   "execution_count": 2,
   "metadata": {},
   "outputs": [],
   "source": [
    "baseurl = 'https://www.yelp.com/'\n",
    "\n",
    "\n",
    "\n",
    "# r.html.render (sleep = 1)\n",
    "\n",
    "# contents = soup.prettify()\n",
    "\n",
    "# for item in hotels:\n",
    "#     for link in item.find('a',  {'class': 'css-166la90'}, href=True):\n",
    "#         hotel_links.append (baseurl + link['href'])\n",
    "# print (len (hotel_links))\n",
    "# print (hotel_links)\n",
    "\n",
    "# for x in range (1,25):\n",
    "#     r = requests.get (f'https://www.yelp.com/search?find_desc=Hotels&find_loc=barcelona&sortby=rating&start={x}0',headers = headers)\n",
    "#     soup = bs (r.content, 'lxml')\n",
    "#     hotels = soup.find_all('div', class_ ='container__09f24__21w3G hoverable__09f24__2nTf3 margin-t3__09f24__5bM2Z margin-b3__09f24__1DQ9x padding-t3__09f24__-R_5x padding-r3__09f24__1pBFG padding-b3__09f24__1vW6j padding-l3__09f24__1yCJf border--top__09f24__8W8ca border--right__09f24__1u7Gt border--bottom__09f24__xdij8 border--left__09f24__rwKIa border-color--default__09f24__1eOdn')\n",
    "#     hotel_links =[]\n",
    "#     for item in hotels:\n",
    "#         link = 'https://www.yelp.com/' + item.find ('a', {'class': 'css-166la90'})['href']\n",
    "#     print (link)\n"
   ]
  },
  {
   "cell_type": "code",
   "execution_count": 3,
   "metadata": {},
   "outputs": [],
   "source": [
    "r = requests.get (f'https://www.yelp.com/search?find_desc=Hotels&find_loc=barcelona&sortby=rating&start=0',headers = headers)\n",
    "soup = bs (r.content, 'lxml')\n",
    "hotels = soup.find_all('div', class_ ='container__09f24__21w3G hoverable__09f24__2nTf3 margin-t3__09f24__5bM2Z margin-b3__09f24__1DQ9x padding-t3__09f24__-R_5x padding-r3__09f24__1pBFG padding-b3__09f24__1vW6j padding-l3__09f24__1yCJf border--top__09f24__8W8ca border--right__09f24__1u7Gt border--bottom__09f24__xdij8 border--left__09f24__rwKIa border-color--default__09f24__1eOdn')\n",
    "hotel_links =[]\n",
    "for item in hotels:\n",
    "    link = 'https://www.yelp.com/' + item.find ('a', {'class': 'css-166la90'})['href']\n",
    "    hotel_links.append(link)\n"
   ]
  },
  {
   "cell_type": "code",
   "execution_count": 4,
   "metadata": {},
   "outputs": [
    {
     "name": "stdout",
     "output_type": "stream",
     "text": [
      "10\n"
     ]
    }
   ],
   "source": [
    "hotel_links\n",
    "print(len(hotel_links))"
   ]
  },
  {
   "cell_type": "code",
   "execution_count": 5,
   "metadata": {},
   "outputs": [
    {
     "data": {
      "text/plain": [
       "['49', '25', '28', '77', '14', '54', '28', '23', '31', '101']"
      ]
     },
     "execution_count": 5,
     "metadata": {},
     "output_type": "execute_result"
    }
   ],
   "source": [
    "\n",
    "rating = soup.find_all('div', class_ = 'attribute__09f24__3znwq display--inline-block__09f24__3L1EB border-color--default__09f24__1eOdn')\n",
    "rating = [x.text for x in rating]\n",
    "rating"
   ]
  },
  {
   "cell_type": "code",
   "execution_count": 6,
   "metadata": {},
   "outputs": [
    {
     "data": {
      "text/html": [
       "<div>\n",
       "<style scoped>\n",
       "    .dataframe tbody tr th:only-of-type {\n",
       "        vertical-align: middle;\n",
       "    }\n",
       "\n",
       "    .dataframe tbody tr th {\n",
       "        vertical-align: top;\n",
       "    }\n",
       "\n",
       "    .dataframe thead th {\n",
       "        text-align: right;\n",
       "    }\n",
       "</style>\n",
       "<table border=\"1\" class=\"dataframe\">\n",
       "  <thead>\n",
       "    <tr style=\"text-align: right;\">\n",
       "      <th></th>\n",
       "      <th>Hotel_links</th>\n",
       "      <th>Rating</th>\n",
       "    </tr>\n",
       "  </thead>\n",
       "  <tbody>\n",
       "    <tr>\n",
       "      <th>0</th>\n",
       "      <td>https://www.yelp.com//biz/hotel-cotton-house-b...</td>\n",
       "      <td>49</td>\n",
       "    </tr>\n",
       "    <tr>\n",
       "      <th>1</th>\n",
       "      <td>https://www.yelp.com//biz/villa-emilia-barcelo...</td>\n",
       "      <td>25</td>\n",
       "    </tr>\n",
       "    <tr>\n",
       "      <th>2</th>\n",
       "      <td>https://www.yelp.com//biz/alma-barcelona-barce...</td>\n",
       "      <td>28</td>\n",
       "    </tr>\n",
       "    <tr>\n",
       "      <th>3</th>\n",
       "      <td>https://www.yelp.com//biz/hotel-1898-barcelona...</td>\n",
       "      <td>77</td>\n",
       "    </tr>\n",
       "    <tr>\n",
       "      <th>4</th>\n",
       "      <td>https://www.yelp.com//biz/the-serras-barcelona...</td>\n",
       "      <td>14</td>\n",
       "    </tr>\n",
       "    <tr>\n",
       "      <th>5</th>\n",
       "      <td>https://www.yelp.com//biz/barcel%C3%B3-raval-b...</td>\n",
       "      <td>54</td>\n",
       "    </tr>\n",
       "    <tr>\n",
       "      <th>6</th>\n",
       "      <td>https://www.yelp.com//biz/olivia-balmes-barcel...</td>\n",
       "      <td>28</td>\n",
       "    </tr>\n",
       "    <tr>\n",
       "      <th>7</th>\n",
       "      <td>https://www.yelp.com//biz/casa-fuster-barcelon...</td>\n",
       "      <td>23</td>\n",
       "    </tr>\n",
       "    <tr>\n",
       "      <th>8</th>\n",
       "      <td>https://www.yelp.com//biz/hotel-duquesa-de-car...</td>\n",
       "      <td>31</td>\n",
       "    </tr>\n",
       "    <tr>\n",
       "      <th>9</th>\n",
       "      <td>https://www.yelp.com//biz/hotel-arts-barcelona...</td>\n",
       "      <td>101</td>\n",
       "    </tr>\n",
       "  </tbody>\n",
       "</table>\n",
       "</div>"
      ],
      "text/plain": [
       "                                         Hotel_links Rating\n",
       "0  https://www.yelp.com//biz/hotel-cotton-house-b...     49\n",
       "1  https://www.yelp.com//biz/villa-emilia-barcelo...     25\n",
       "2  https://www.yelp.com//biz/alma-barcelona-barce...     28\n",
       "3  https://www.yelp.com//biz/hotel-1898-barcelona...     77\n",
       "4  https://www.yelp.com//biz/the-serras-barcelona...     14\n",
       "5  https://www.yelp.com//biz/barcel%C3%B3-raval-b...     54\n",
       "6  https://www.yelp.com//biz/olivia-balmes-barcel...     28\n",
       "7  https://www.yelp.com//biz/casa-fuster-barcelon...     23\n",
       "8  https://www.yelp.com//biz/hotel-duquesa-de-car...     31\n",
       "9  https://www.yelp.com//biz/hotel-arts-barcelona...    101"
      ]
     },
     "execution_count": 6,
     "metadata": {},
     "output_type": "execute_result"
    }
   ],
   "source": [
    "df = pd.DataFrame( list(zip(hotel_links,rating)),  columns =  ['Hotel_links', 'Rating'])\n",
    "df"
   ]
  },
  {
   "cell_type": "code",
   "execution_count": 17,
   "metadata": {},
   "outputs": [
    {
     "data": {
      "text/plain": [
       "2"
      ]
     },
     "execution_count": 17,
     "metadata": {},
     "output_type": "execute_result"
    }
   ],
   "source": [
    "stars = soup.find_all('div', {'class' :  \"i-stars__09f24__1T6rz i-stars--regular-5__09f24__N5JxY border-color--default__09f24__1eOdn overflow--hidden__09f24__3z7CX\"})\r\n",
    "len(stars)"
   ]
  },
  {
   "cell_type": "code",
   "execution_count": 19,
   "metadata": {},
   "outputs": [
    {
     "data": {
      "text/plain": [
       "[<div aria-label=\"4.5 star rating\" class=\"i-stars__09f24__1T6rz i-stars--regular-4-half__09f24__1YrPo border-color--default__09f24__1eOdn overflow--hidden__09f24__3z7CX\" role=\"img\"><img alt=\"\" class=\"offscreen__09f24__1VFco\" height=\"560\" src=\"https://s3-media0.fl.yelpcdn.com/assets/public/stars_v2.yji-52d3d7a328db670d4402843cbddeed89.png\" width=\"132\"/></div>,\n",
       " <div aria-label=\"4.5 star rating\" class=\"i-stars__09f24__1T6rz i-stars--regular-4-half__09f24__1YrPo border-color--default__09f24__1eOdn overflow--hidden__09f24__3z7CX\" role=\"img\"><img alt=\"\" class=\"offscreen__09f24__1VFco\" height=\"560\" src=\"https://s3-media0.fl.yelpcdn.com/assets/public/stars_v2.yji-52d3d7a328db670d4402843cbddeed89.png\" width=\"132\"/></div>,\n",
       " <div aria-label=\"4.5 star rating\" class=\"i-stars__09f24__1T6rz i-stars--regular-4-half__09f24__1YrPo border-color--default__09f24__1eOdn overflow--hidden__09f24__3z7CX\" role=\"img\"><img alt=\"\" class=\"offscreen__09f24__1VFco\" height=\"560\" src=\"https://s3-media0.fl.yelpcdn.com/assets/public/stars_v2.yji-52d3d7a328db670d4402843cbddeed89.png\" width=\"132\"/></div>,\n",
       " <div aria-label=\"4.5 star rating\" class=\"i-stars__09f24__1T6rz i-stars--regular-4-half__09f24__1YrPo border-color--default__09f24__1eOdn overflow--hidden__09f24__3z7CX\" role=\"img\"><img alt=\"\" class=\"offscreen__09f24__1VFco\" height=\"560\" src=\"https://s3-media0.fl.yelpcdn.com/assets/public/stars_v2.yji-52d3d7a328db670d4402843cbddeed89.png\" width=\"132\"/></div>,\n",
       " <div aria-label=\"4.5 star rating\" class=\"i-stars__09f24__1T6rz i-stars--regular-4-half__09f24__1YrPo border-color--default__09f24__1eOdn overflow--hidden__09f24__3z7CX\" role=\"img\"><img alt=\"\" class=\"offscreen__09f24__1VFco\" height=\"560\" src=\"https://s3-media0.fl.yelpcdn.com/assets/public/stars_v2.yji-52d3d7a328db670d4402843cbddeed89.png\" width=\"132\"/></div>,\n",
       " <div aria-label=\"4.5 star rating\" class=\"i-stars__09f24__1T6rz i-stars--regular-4-half__09f24__1YrPo border-color--default__09f24__1eOdn overflow--hidden__09f24__3z7CX\" role=\"img\"><img alt=\"\" class=\"offscreen__09f24__1VFco\" height=\"560\" src=\"https://s3-media0.fl.yelpcdn.com/assets/public/stars_v2.yji-52d3d7a328db670d4402843cbddeed89.png\" width=\"132\"/></div>,\n",
       " <div aria-label=\"4.5 star rating\" class=\"i-stars__09f24__1T6rz i-stars--regular-4-half__09f24__1YrPo border-color--default__09f24__1eOdn overflow--hidden__09f24__3z7CX\" role=\"img\"><img alt=\"\" class=\"offscreen__09f24__1VFco\" height=\"560\" src=\"https://s3-media0.fl.yelpcdn.com/assets/public/stars_v2.yji-52d3d7a328db670d4402843cbddeed89.png\" width=\"132\"/></div>]"
      ]
     },
     "execution_count": 19,
     "metadata": {},
     "output_type": "execute_result"
    }
   ],
   "source": [
    "star = soup.find_all('div', {'aria-label':\"4.5 star rating\" })\r\n",
    "star"
   ]
  },
  {
   "cell_type": "code",
   "execution_count": 20,
   "metadata": {},
   "outputs": [
    {
     "data": {
      "text/plain": [
       "7"
      ]
     },
     "execution_count": 20,
     "metadata": {},
     "output_type": "execute_result"
    }
   ],
   "source": [
    "len(star)"
   ]
  },
  {
   "cell_type": "code",
   "execution_count": 21,
   "metadata": {},
   "outputs": [
    {
     "data": {
      "text/plain": [
       "bs4.element.ResultSet"
      ]
     },
     "execution_count": 21,
     "metadata": {},
     "output_type": "execute_result"
    }
   ],
   "source": [
    "type(star)"
   ]
  },
  {
   "cell_type": "code",
   "execution_count": 24,
   "metadata": {},
   "outputs": [
    {
     "data": {
      "text/plain": [
       "[<div aria-label=\"4.5 star rating\" class=\"i-stars__09f24__1T6rz i-stars--regular-4-half__09f24__1YrPo border-color--default__09f24__1eOdn overflow--hidden__09f24__3z7CX\" role=\"img\"><img alt=\"\" class=\"offscreen__09f24__1VFco\" height=\"560\" src=\"https://s3-media0.fl.yelpcdn.com/assets/public/stars_v2.yji-52d3d7a328db670d4402843cbddeed89.png\" width=\"132\"/></div>,\n",
       " <div aria-label=\"4.5 star rating\" class=\"i-stars__09f24__1T6rz i-stars--regular-4-half__09f24__1YrPo border-color--default__09f24__1eOdn overflow--hidden__09f24__3z7CX\" role=\"img\"><img alt=\"\" class=\"offscreen__09f24__1VFco\" height=\"560\" src=\"https://s3-media0.fl.yelpcdn.com/assets/public/stars_v2.yji-52d3d7a328db670d4402843cbddeed89.png\" width=\"132\"/></div>,\n",
       " <div aria-label=\"4.5 star rating\" class=\"i-stars__09f24__1T6rz i-stars--regular-4-half__09f24__1YrPo border-color--default__09f24__1eOdn overflow--hidden__09f24__3z7CX\" role=\"img\"><img alt=\"\" class=\"offscreen__09f24__1VFco\" height=\"560\" src=\"https://s3-media0.fl.yelpcdn.com/assets/public/stars_v2.yji-52d3d7a328db670d4402843cbddeed89.png\" width=\"132\"/></div>,\n",
       " <div aria-label=\"4.5 star rating\" class=\"i-stars__09f24__1T6rz i-stars--regular-4-half__09f24__1YrPo border-color--default__09f24__1eOdn overflow--hidden__09f24__3z7CX\" role=\"img\"><img alt=\"\" class=\"offscreen__09f24__1VFco\" height=\"560\" src=\"https://s3-media0.fl.yelpcdn.com/assets/public/stars_v2.yji-52d3d7a328db670d4402843cbddeed89.png\" width=\"132\"/></div>,\n",
       " <div aria-label=\"4.5 star rating\" class=\"i-stars__09f24__1T6rz i-stars--regular-4-half__09f24__1YrPo border-color--default__09f24__1eOdn overflow--hidden__09f24__3z7CX\" role=\"img\"><img alt=\"\" class=\"offscreen__09f24__1VFco\" height=\"560\" src=\"https://s3-media0.fl.yelpcdn.com/assets/public/stars_v2.yji-52d3d7a328db670d4402843cbddeed89.png\" width=\"132\"/></div>,\n",
       " <div aria-label=\"4.5 star rating\" class=\"i-stars__09f24__1T6rz i-stars--regular-4-half__09f24__1YrPo border-color--default__09f24__1eOdn overflow--hidden__09f24__3z7CX\" role=\"img\"><img alt=\"\" class=\"offscreen__09f24__1VFco\" height=\"560\" src=\"https://s3-media0.fl.yelpcdn.com/assets/public/stars_v2.yji-52d3d7a328db670d4402843cbddeed89.png\" width=\"132\"/></div>,\n",
       " <div aria-label=\"4.5 star rating\" class=\"i-stars__09f24__1T6rz i-stars--regular-4-half__09f24__1YrPo border-color--default__09f24__1eOdn overflow--hidden__09f24__3z7CX\" role=\"img\"><img alt=\"\" class=\"offscreen__09f24__1VFco\" height=\"560\" src=\"https://s3-media0.fl.yelpcdn.com/assets/public/stars_v2.yji-52d3d7a328db670d4402843cbddeed89.png\" width=\"132\"/></div>]"
      ]
     },
     "execution_count": 24,
     "metadata": {},
     "output_type": "execute_result"
    }
   ],
   "source": [
    "star"
   ]
  },
  {
   "cell_type": "code",
   "execution_count": 18,
   "metadata": {},
   "outputs": [
    {
     "data": {
      "text/plain": [
       "['', '']"
      ]
     },
     "execution_count": 18,
     "metadata": {},
     "output_type": "execute_result"
    }
   ],
   "source": [
    "star= []\r\n",
    "for item in stars:\r\n",
    "    item.find_all \r\n",
    "    star.append(item.get_text())   \r\n",
    "star"
   ]
  },
  {
   "cell_type": "code",
   "execution_count": null,
   "metadata": {},
   "outputs": [],
   "source": [
    "star1 = soup.find_all('div', {'class' : 'i-stars__373c0__1T6rz i-stars--large-4-half__373c0__2lYkD border-color--default__373c0__30oMI overflow--hidden__373c0__2B0kz'})\n",
    "stars"
   ]
  },
  {
   "cell_type": "code",
   "execution_count": null,
   "metadata": {},
   "outputs": [],
   "source": []
  },
  {
   "cell_type": "code",
   "execution_count": null,
   "metadata": {},
   "outputs": [],
   "source": []
  },
  {
   "cell_type": "code",
   "execution_count": null,
   "metadata": {},
   "outputs": [],
   "source": []
  }
 ],
 "metadata": {
  "interpreter": {
   "hash": "7da0dff66cc1656971d6da80a6d455a6736937c6f28b91b322b223214c78ae6d"
  },
  "kernelspec": {
   "display_name": "Python 3.8.10 64-bit ('minicyborg': conda)",
   "name": "python3"
  },
  "language_info": {
   "codemirror_mode": {
    "name": "ipython",
    "version": 3
   },
   "file_extension": ".py",
   "mimetype": "text/x-python",
   "name": "python",
   "nbconvert_exporter": "python",
   "pygments_lexer": "ipython3",
   "version": "3.8.8"
  }
 },
 "nbformat": 4,
 "nbformat_minor": 5
}